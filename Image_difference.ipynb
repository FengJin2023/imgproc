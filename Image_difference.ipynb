{
 "cells": [
  {
   "cell_type": "code",
   "execution_count": 2,
   "id": "489439e4-7dd5-4ec0-8bfb-f1ec0573e473",
   "metadata": {},
   "outputs": [
    {
     "data": {
      "text/plain": [
       "True"
      ]
     },
     "execution_count": 2,
     "metadata": {},
     "output_type": "execute_result"
    }
   ],
   "source": [
    "import cv2\n",
    "image1 = cv2.imread(\"x_-2.2y_1z_2.7_red_150_before.png\")\n",
    "image2 = cv2.imread(\"x_-2.2y_1z_2.7_red_150_after.png\")\n",
    "\n",
    "# compute difference\n",
    "difference = cv2.subtract(image1, image2)\n",
    "cv2.imwrite('dif_red_150.png',difference)"
   ]
  },
  {
   "cell_type": "code",
   "execution_count": null,
   "id": "29c189c3-77b1-4b30-a864-c62dc98ce398",
   "metadata": {},
   "outputs": [],
   "source": []
  }
 ],
 "metadata": {
  "kernelspec": {
   "display_name": "Python 3 (ipykernel)",
   "language": "python",
   "name": "python3"
  },
  "language_info": {
   "codemirror_mode": {
    "name": "ipython",
    "version": 3
   },
   "file_extension": ".py",
   "mimetype": "text/x-python",
   "name": "python",
   "nbconvert_exporter": "python",
   "pygments_lexer": "ipython3",
   "version": "3.9.18"
  }
 },
 "nbformat": 4,
 "nbformat_minor": 5
}
