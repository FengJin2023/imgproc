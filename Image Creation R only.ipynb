{
 "cells": [
  {
   "cell_type": "code",
   "execution_count": 18,
   "id": "e6be6fb3",
   "metadata": {},
   "outputs": [],
   "source": [
    "#Cropping image\n",
    "import cv2\n",
    "#img = cv2.imread(\"_DSC0306.JPG\")\n",
    "#crop_image = img[0:399,0:399]\n",
    "import numpy as np\n",
    "import pylab as plt\n",
    "\n",
    "reso = 400\n",
    "img = np.zeros([reso,reso,3],dtype=np.uint8)\n",
    "img[:] = (255)\n",
    "crop_image = img\n",
    "\n",
    "\n",
    "\n",
    "\n",
    "\n"
   ]
  },
  {
   "cell_type": "code",
   "execution_count": 2,
   "id": "57c32cd8",
   "metadata": {},
   "outputs": [
    {
     "data": {
      "text/plain": [
       "'\\n# load the input image from disk\\nimage = cv2.imread(args[\"0067_moire.jpg\"])\\n# split the image into its respective channels, then initialize the\\n# tuple of channel names along with our figure for plotting\\nchans = cv2.split(image)\\ncolors = (\"b\", \"g\", \"r\")\\nplt.figure()\\nplt.title(\"\\'Flattened\\' Color Histogram\")\\nplt.xlabel(\"Bins\")\\nplt.ylabel(\"# of Pixels\")\\n# loop over the image channels\\nfor (chan, color) in zip(chans, colors):\\n\\t# create a histogram for the current channel and plot it\\n\\thist = cv2.calcHist([chan], [0], None, [256], [0, 256])\\n\\tplt.plot(hist, color=color)\\n\\tplt.xlim([0, 256])\\n'"
      ]
     },
     "execution_count": 2,
     "metadata": {},
     "output_type": "execute_result"
    }
   ],
   "source": [
    "'''\n",
    "# load the input image from disk\n",
    "image = cv2.imread(args[\"0067_moire.jpg\"])\n",
    "# split the image into its respective channels, then initialize the\n",
    "# tuple of channel names along with our figure for plotting\n",
    "chans = cv2.split(image)\n",
    "colors = (\"b\", \"g\", \"r\")\n",
    "plt.figure()\n",
    "plt.title(\"'Flattened' Color Histogram\")\n",
    "plt.xlabel(\"Bins\")\n",
    "plt.ylabel(\"# of Pixels\")\n",
    "# loop over the image channels\n",
    "for (chan, color) in zip(chans, colors):\n",
    "\t# create a histogram for the current channel and plot it\n",
    "\thist = cv2.calcHist([chan], [0], None, [256], [0, 256])\n",
    "\tplt.plot(hist, color=color)\n",
    "\tplt.xlim([0, 256])\n",
    "'''"
   ]
  },
  {
   "cell_type": "code",
   "execution_count": 20,
   "id": "4abf3de4",
   "metadata": {
    "scrolled": false
   },
   "outputs": [
    {
     "data": {
      "image/png": "[encoded data removed]",
      "text/plain": [
       "<Figure size 640x480 with 1 Axes>"
      ]
     },
     "metadata": {},
     "output_type": "display_data"
    }
   ],
   "source": [
    "import pylab as plt\n",
    "\n",
    "# Grid lines at these intervals (in pixels)\n",
    "# dx and dy can be different\n",
    "dx, dy = 4,4\n",
    "drgb = 3\n",
    "# Custom (rgb) rid color\n",
    "grid_color = [0,0,0]\n",
    "red = [255,0,0]\n",
    "green = [0,255,0]\n",
    "blue = [0,0,150]\n",
    "\n",
    "# Modify the image to include the grid\n",
    "crop_image[:,::dy,:] = grid_color\n",
    "#crop_image[::dx,:,:] = grid_color\n",
    "crop_image[:,range(1,reso,dy),:] = grid_color\n",
    "crop_image[:,range(2,reso,dy),:] = grid_color\n",
    "crop_image[:,range(3,reso,dy),:] = blue\n",
    "\n",
    "crop_image[::dx,:,:] = grid_color\n",
    "\n",
    "#crop_image[2:dx,:,:] = green\n",
    "#crop_image[3:dx,:,:] = blue\n",
    "\n",
    "\n",
    "\n",
    "\n",
    "\n",
    "\n",
    "\n",
    "# reseize image\n",
    "#small_80percent = cv2.resize(crop_image, (500, 500))\n",
    "#bigger_onefive = cv2.resize(crop_image, (1500, 1500))\n",
    "#bigger_two = cv2.resize(crop_image, (2000, 2000))\n",
    "#bigger_twofive = cv2.resize(crop_image, (2500, 2500))\n",
    "# Show the result\n",
    "plt.imshow(crop_image)\n",
    "plt.show()\n"
   ]
  },
  {
   "cell_type": "code",
   "execution_count": 21,
   "id": "b48e095c",
   "metadata": {},
   "outputs": [
    {
     "data": {
      "text/plain": [
       "-1"
      ]
     },
     "execution_count": 21,
     "metadata": {},
     "output_type": "execute_result"
    }
   ],
   "source": [
    "import numpy as np\n",
    "import cv2\n",
    "import math\n",
    "import os\n",
    "\n",
    "directory = r'D:\\Fengjin\\TIT\\Lab\\Dataset\\New_Moire_image'\n",
    "os.chdir(directory)\n",
    "\n",
    "\n",
    "#read image\n",
    "img = crop_image\n",
    "\n",
    "#read reseize image\n",
    "#img = small_80percent\n",
    "\n",
    "# change size of image\n",
    "scale_percent = 150\n",
    "width = int(img.shape[1] * scale_percent / 100)\n",
    "height = int(img.shape[0] * scale_percent / 100)\n",
    "dim = (width, height)\n",
    "img = cv2.resize(img, dim, interpolation = cv2.INTER_LINEAR)\n",
    "\n",
    "\n",
    "#2d to 3d (projection)  , and -> rotation point - center point (origin point)\n",
    "proj2dto3d = np.array([[1,0,-img.shape[1]/2],\n",
    "                      [0,1,-img.shape[0]/2],\n",
    "                      [0,0,0],\n",
    "                      [0,0,1]],np.float32)\n",
    "\n",
    "# 3d matrixs in  x ,y ,z \n",
    "\n",
    "'''\n",
    " you can remove any matrix if you dont want to rotate around it , so in our case \n",
    " we rotate around y axis only so any line ends with \" #0 \" we can remove it \n",
    " and the programe will run \n",
    "\n",
    "'''\n",
    "rx   = np.array([[1,0,0,0],\n",
    "                 [0,1,0,0],\n",
    "                 [0,0,1,0],\n",
    "                 [0,0,0,1]],np.float32)  #0\n",
    "\n",
    "ry   = np.array([[1,0,0,0],\n",
    "                 [0,1,0,0],\n",
    "                 [0,0,1,0],\n",
    "                 [0,0,0,1]],np.float32)\n",
    "\n",
    "rz   = np.array([[1,0,0,0],\n",
    "                 [0,1,0,0],\n",
    "                 [0,0,1,0],\n",
    "                 [0,0,0,1]],np.float32)  #0\n",
    "\n",
    "\n",
    "trans= np.array([[1,0,0,0],\n",
    "                 [0,1,0,0],\n",
    "                 [0,0,1,400],   #400 to move the image in z axis \n",
    "                 [0,0,0,1]],np.float32)\n",
    "\n",
    "\n",
    "\n",
    "proj3dto2d = np.array([ [200,0,img.shape[1]/2,0],\n",
    "                        [0,200,img.shape[0]/2,0],\n",
    "                        [0,0,1,0] ],np.float32)\n",
    "\n",
    "x = -2.5\n",
    "y = 0.0\n",
    "z = 2.7 #0\n",
    "\n",
    "for j in range(0,2):\n",
    "    for i in range(0,2):\n",
    "\n",
    "        ax = float(x * (math.pi / 180.0)) #0\n",
    "        ay = float(y * (math.pi / 180.0)) \n",
    "        az = float(z * (math.pi / 180.0)) #0\n",
    "\n",
    "        rx[1,1] = math.cos(ax) #0\n",
    "        rx[1,2] = -math.sin(ax) #0\n",
    "        rx[2,1] = math.sin(ax) #0\n",
    "        rx[2,2] = math.cos(ax) #0\n",
    "\n",
    "        ry[0,0] = math.cos(ay)\n",
    "        ry[0,2] = -math.sin(ay)\n",
    "        ry[2,0] = math.sin(ay)\n",
    "        ry[2,2] = math.cos(ay)\n",
    "\n",
    "        rz[0,0] = math.cos(az) #0\n",
    "        rz[0,1] = -math.sin(az) #0\n",
    "        rz[1,0] = math.sin(az) #0\n",
    "        rz[1,1] = math.cos(az) #0\n",
    "\n",
    "        r =rx.dot(ry).dot(rz) # if we remove the lines we put    r=ry\n",
    "        final = proj3dto2d.dot(trans.dot(r.dot(proj2dto3d)))\n",
    "\n",
    "        dst = cv2.warpPerspective(img, final,(img.shape[1],img.shape[0]),None,cv2.INTER_LINEAR\n",
    "                                  ,cv2.BORDER_CONSTANT,(255,255,255))\n",
    "        \n",
    "        #dst_crop = dst[1500:4500,1500:4500]\n",
    "        file_name = \"{}{}{}{}{}\".format('x_',x, 'y_',y,'z_2.7.png')\n",
    "        cv2.imwrite(file_name,dst)\n",
    "        y += 0.3\n",
    "    x += 0.3\n",
    "    y = 1\n",
    "    \n",
    " \n",
    "\n",
    "\n",
    "cv2.waitKey(0)"
   ]
  },
  {
   "cell_type": "code",
   "execution_count": 4,
   "id": "0e8904b1",
   "metadata": {},
   "outputs": [
    {
     "ename": "NameError",
     "evalue": "name 'cv2_imwrite' is not defined",
     "output_type": "error",
     "traceback": [
      "\u001b[1;31m---------------------------------------------------------------------------\u001b[0m",
      "\u001b[1;31mNameError\u001b[0m                                 Traceback (most recent call last)",
      "Cell \u001b[1;32mIn[4], line 10\u001b[0m\n\u001b[0;32m      8\u001b[0m img \u001b[38;5;241m=\u001b[39m cv2\u001b[38;5;241m.\u001b[39mimread(\u001b[38;5;124m\"\u001b[39m\u001b[38;5;124mx_-2.5y_0.0z_0.png\u001b[39m\u001b[38;5;124m\"\u001b[39m)\n\u001b[0;32m      9\u001b[0m crop_image \u001b[38;5;241m=\u001b[39m img[\u001b[38;5;241m1500\u001b[39m:\u001b[38;5;241m4500\u001b[39m,\u001b[38;5;241m1500\u001b[39m:\u001b[38;5;241m4500\u001b[39m]\n\u001b[1;32m---> 10\u001b[0m cv2_imwrite(crop_image, half)\n",
      "\u001b[1;31mNameError\u001b[0m: name 'cv2_imwrite' is not defined"
     ]
    }
   ],
   "source": [
    "import numpy as np\n",
    "import cv2\n",
    "import math\n",
    "import os\n",
    "\n",
    "directory = r'D:\\Fengjin\\TIT\\Lab\\Dataset\\New_Moire_image'\n",
    "os.chdir(directory)\n",
    "img = cv2.imread(\"x_-2.5y_0.0z_0.png\")\n",
    "crop_image = img[1500:4500,1500:4500]\n",
    "cv2_imwrite(crop_image, half)"
   ]
  },
  {
   "cell_type": "code",
   "execution_count": null,
   "id": "6e8b6802",
   "metadata": {},
   "outputs": [],
   "source": []
  }
 ],
 "metadata": {
  "kernelspec": {
   "display_name": "Python 3 (ipykernel)",
   "language": "python",
   "name": "python3"
  },
  "language_info": {
   "codemirror_mode": {
    "name": "ipython",
    "version": 3
   },
   "file_extension": ".py",
   "mimetype": "text/x-python",
   "name": "python",
   "nbconvert_exporter": "python",
   "pygments_lexer": "ipython3",
   "version": "3.11.4"
  }
 },
 "nbformat": 4,
 "nbformat_minor": 5
}
